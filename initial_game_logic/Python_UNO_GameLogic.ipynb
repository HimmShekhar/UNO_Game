{
 "cells": [
  {
   "cell_type": "code",
   "execution_count": null,
   "id": "11726a89",
   "metadata": {
    "pycharm": {
     "name": "#%%\n"
    }
   },
   "outputs": [],
   "source": [
    "#Generating Deck of 108 cards.\n",
    "'''This function builds deck for the game.\n",
    "Logic : Using a for-loop within for-loop to make combinations of numbers and colours. Appending all the number twice except '0'\n",
    "Also appending 4 wild cards in the deck with another for loop.\n",
    "\n",
    "Parameter -> None\n",
    "Returns -> The whole deck in a form of list.\n",
    "\n",
    "'''\n",
    "def buildDeck():\n",
    "    \n",
    "    deck = []\n",
    "    colors = ['Red','Yellow','Blue','Green']\n",
    "    numbers = [0,1,2,3,4,5,6,7,8,9,'+2','Skip','Reverse']\n",
    "    wilds = ['Wild +4','Wild CC']\n",
    "    for color in colors:\n",
    "        for num in numbers:\n",
    "            deck.append('{} {}'.format(color,num))\n",
    "            if num!=0:\n",
    "                deck.append('{} {}'.format(color,num))\n",
    "    for _ in range(4):\n",
    "        deck.append(wilds[0])\n",
    "        deck.append(wilds[1])\n",
    "                \n",
    "    return deck\n",
    "    "
   ]
  },
  {
   "cell_type": "code",
   "execution_count": null,
   "id": "61196073",
   "metadata": {
    "pycharm": {
     "name": "#%%\n"
    }
   },
   "outputs": [],
   "source": [
    "#Shuffle Deck\n",
    "'''\n",
    "Shuffling the deck using shuffle function in random package.\n",
    "\n",
    "Paramter -> list of cards\n",
    "Returns -> list of cards\n",
    "'''\n",
    "from random import shuffle\n",
    "def shuffleCards(cards):\n",
    "    #Shufles a list of cards \"randomly\".\n",
    "    shuffle(cards)  \n",
    "    return cards"
   ]
  },
  {
   "cell_type": "code",
   "execution_count": null,
   "id": "06adbdab",
   "metadata": {
    "pycharm": {
     "name": "#%%\n"
    }
   },
   "outputs": [],
   "source": [
    "#drawing N number of cards\n",
    "\n",
    "'''\n",
    "This function draws N number of cards from the maindeck.\n",
    "\n",
    "paramter -> deck(list of cards in maindeck or discarded deck), number of cards to be drawn as integer.\n",
    "returns -> list of drawn cards\n",
    "'''\n",
    "\n",
    "def drawCards(maindeck,num):\n",
    "    drawnCards = []\n",
    "    for _ in range(num):\n",
    "        drawnCards.append(maindeck.pop(0))\n",
    "    return drawnCards"
   ]
  },
  {
   "cell_type": "code",
   "execution_count": null,
   "id": "d5c243d6",
   "metadata": {
    "pycharm": {
     "name": "#%%\n"
    }
   },
   "outputs": [],
   "source": [
    "#print cards in player hands\n",
    "\n",
    "'''\n",
    "This function prints the card in hand of any player.\n",
    "\n",
    "Parameter -> integer(player turn-1 (I have initialized player turn at 0 to match the indices of list.)), dictionary of players.\n",
    "Returns -> None\n",
    "\n",
    "'''\n",
    "\n",
    "def hand(playerNum, players):\n",
    "    key = 'Player '+str(playerNum+1)\n",
    "    \n",
    "    print('Player '+str(playerNum+1) + ' turns. ')\n",
    "    print(\"\")\n",
    "    for card in players[key]:\n",
    "        print(card)\n",
    "        \n",
    "    print(\"\")"
   ]
  },
  {
   "cell_type": "code",
   "execution_count": null,
   "id": "f34d9956",
   "metadata": {
    "pycharm": {
     "name": "#%%\n"
    }
   },
   "outputs": [],
   "source": [
    "#check player hand if he/she can play any card in that turn. Returns Boolean\n",
    "\n",
    "'''\n",
    "This function checks player hand if it can play any card in that turn.\n",
    "\n",
    "parameter -> current card on top as String, players dictionary, player turn as integer \n",
    "returns -> Boolean\n",
    "'''\n",
    "\n",
    "\n",
    "def canPlayCard(currentCard,players,playerTurn):\n",
    "    \n",
    "    splitCard = currentCard.split()\n",
    "    cardCurrentColor = splitCard[0] \n",
    "    cardCurrentValue = splitCard[1]\n",
    "    key = 'Player '+str(playerTurn+1)\n",
    "    \n",
    "    \n",
    "    for card in players[key]:\n",
    "        playerCardSplit = card.split()\n",
    "        if playerCardSplit[0] == 'Wild':\n",
    "            return True\n",
    "        elif playerCardSplit[0] == cardCurrentColor or playerCardSplit[1] == cardCurrentValue:\n",
    "            return True\n",
    "    return False\n",
    "    \n",
    "    "
   ]
  },
  {
   "cell_type": "code",
   "execution_count": null,
   "id": "b963acd4",
   "metadata": {
    "pycharm": {
     "name": "#%%\n"
    }
   },
   "outputs": [],
   "source": [
    "#Validate if the card played by player is correct.\n",
    "'''\n",
    "This function validates if the card played by any player is valid for that turn.\n",
    "\n",
    "Parameters -> The card played by player as String, Current card on top as string.\n",
    "Returns -> Boolean\n",
    "\n",
    "'''\n",
    "\n",
    "\n",
    "def validateChosenCard(chosenCard, currentCard):\n",
    "    chosenCardColor = (chosenCard.split())[0]\n",
    "    chosenCardValue = (chosenCard.split())[1]\n",
    "    currentCardColor = (currentCard.split())[0]\n",
    "    currentCardValue = (currentCard.split())[1]\n",
    "    \n",
    "    if chosenCardColor == 'Wild':\n",
    "        return True\n",
    "    elif chosenCardColor == currentCardColor or chosenCardValue == currentCardValue:\n",
    "        return True\n",
    "    else:\n",
    "        return False"
   ]
  },
  {
   "cell_type": "code",
   "execution_count": null,
   "id": "e955d3da",
   "metadata": {
    "pycharm": {
     "name": "#%%\n"
    }
   },
   "outputs": [],
   "source": [
    "#check if player has won\n",
    "'''\n",
    "This function  check if any player has won the game.\n",
    "parameters -> players as dictionary, player turn as an integer\n",
    "Returns -> Boolean\n",
    "'''\n",
    "\n",
    "def winner(players,playerTurn):\n",
    "    \n",
    "    key = 'Player '+str(playerTurn+1)\n",
    "    handLeft = players[key]\n",
    "    if len(handLeft) == 0:\n",
    "        return True\n",
    "    else:\n",
    "        return False\n",
    "    "
   ]
  },
  {
   "cell_type": "code",
   "execution_count": null,
   "id": "e10df18e",
   "metadata": {
    "pycharm": {
     "name": "#%%\n"
    }
   },
   "outputs": [],
   "source": [
    "'''\n",
    "This function implements the extended new rule asked for the project.\n",
    "Parameters -> deck as list, player turn as integer, players as dictionary\n",
    "Returns -> None\n",
    "\n",
    "Logic -> This function takes the player as per its turn and retrieve the cards in its hand and \n",
    "removes the first card from its hand and append a new card taking the last card from the main deck. \n",
    "The card removed from the hand is appended in the main deck at the start. \n",
    "'''\n",
    "\n",
    "\n",
    "def extendedRule(maindeck,playerTurn,players):\n",
    "    \n",
    "    key = 'Player '+str(playerTurn+1)\n",
    "    cardInHand = players[key]\n",
    "    cardPopped = cardInHand.pop(0) #taking first card from players hand.\n",
    "    maindeck.insert(0,cardPopped) # inserting the card at 0 index of the maindeck\n",
    "    cardInHand.append(maindeck.pop(-1)) #adding a new card in players hand taking last card from the main deck.\n",
    "\n"
   ]
  },
  {
   "cell_type": "code",
   "execution_count": null,
   "id": "c577c723",
   "metadata": {
    "pycharm": {
     "name": "#%%\n"
    }
   },
   "outputs": [],
   "source": [
    "'''\n",
    "This function controls the game.\n",
    "\n",
    "'''\n",
    "def main():\n",
    "    \n",
    "    #building and shuffling the main deck.\n",
    "    maindeck = buildDeck()\n",
    "    maindeck = shuffleCards(maindeck)\n",
    "    maindeck = shuffleCards(maindeck)\n",
    "\n",
    "    \n",
    "    #Asking the player with how many players he/she wants to play the game against and initializing a dictionary of players.\n",
    "    players = {}\n",
    "    numPlayers = int(input('How many players do you want to play against ? ----- '))\n",
    "    totPlayers = numPlayers+1 #total number of players including human.\n",
    "    num = 1 #initializing a value to use it as a Name in dictionary key.\n",
    "    \n",
    "    \n",
    "    #inserting data in player dictionary with players as key and cards in its hand as value. \n",
    "    for player in range(totPlayers):\n",
    "        playerCards=[]\n",
    "        players['Player ' +str(num)] = drawCards(maindeck,7) #drawing 7 cards from maindeck and assigning it in player's hand. \n",
    "        num+=1    \n",
    "    \n",
    "    \n",
    "    gameDirection = 1  #initializing a game direction as 1.\n",
    "    playerTurn = 0    #initializing player turn as 0 to match indices of list(done for ease).\n",
    "    game = True      #initializing game boolean to start and end the game.\n",
    "    leftCards = []   #discard pile as list of cards used to add the card played by players.\n",
    "    leftCards.append(maindeck.pop(-1))  #initializing the discard pile as the last card from the main deck before the game starts.\n",
    "    #leftCards.extend(maindeck) \n",
    "    currentCard = ''\n",
    "    chosenCard = ''\n",
    "    \n",
    "    \n",
    "    #starting the game\n",
    "    while game:\n",
    "        \n",
    "        \n",
    "        currentCard = leftCards[-1] #the current card on top of discard pile.\n",
    "\n",
    "        \n",
    "        #checking if the main deck gets empty and populating it after shuffling the discarded pile.\n",
    "        if(len(maindeck) == 0):\n",
    "            shuffleCards(leftCards)\n",
    "            maindeck.extend(leftCards)\n",
    "        \n",
    "        \n",
    "        \n",
    "        #implementing extended rule of swapping a card from deck.\n",
    "        print(\"\")\n",
    "        print('Player '+str(playerTurn+1) + ' hand before swapping is ')\n",
    "        hand(playerTurn, players)\n",
    "        extendedRule(maindeck,playerTurn,players)\n",
    "        print(\"\")\n",
    "        print('Player '+str(playerTurn+1) + ' hand after swapping is ')\n",
    "        hand(playerTurn, players)\n",
    "        \n",
    "        \n",
    "        print('The Card on top of the pile is {}'.format(leftCards.pop(-1)))\n",
    "        \n",
    "        \n",
    "        \n",
    "        #checking if the player is eligible to play any card from its hand by comparing the card on top of the pile.\n",
    "        if canPlayCard(currentCard,players,playerTurn):\n",
    "            chosenCard = input('Which card you wanna play ?')\n",
    "            \n",
    "            \n",
    "            #validating the card played by player is correct or not.\n",
    "            while not validateChosenCard(chosenCard, currentCard):\n",
    "                chosenCard = input('Invalid Card. Which card you wanna play ?')\n",
    "            \n",
    "            playerHand = players['Player '+str(playerTurn+1)]\n",
    "            playerHand.pop(playerHand.index(chosenCard)) #removing the played card from player's hand.\n",
    "            leftCards.append(chosenCard) #appending the played card in the discard pile \n",
    "            \n",
    "            \n",
    "            #check for win here.\n",
    "            if winner(players,playerTurn):\n",
    "                print ('Game Over ... Player '+str(playerTurn+1)+ ' is the winner.')\n",
    "                game = False\n",
    "            \n",
    "            else:\n",
    "                #check for special cards\n",
    "                splitCard = leftCards[-1].split(\" \")                \n",
    "                currentColour = splitCard[0]\n",
    "                currentValue = splitCard[1] \n",
    "\n",
    "                '''\n",
    "                This part checks the special card played by player and integrates the functionality of special.\n",
    "                '''\n",
    "                if currentColour == 'Wild':\n",
    "                    newColor = input('Please choose a color between Red, Yellow, Blue or Green.')\n",
    "                    colors = ['Red','Yellow','Blue','Green']\n",
    "                    while newColor not in colors:\n",
    "                        newColor = input('Please choose a color between Red, Yellow, Blue or Green.')\n",
    "                    currentCard = newColor + ' Any'\n",
    "                    leftCards.append(currentCard)\n",
    "\n",
    "                if currentValue == 'Reverse':\n",
    "                    gameDirection = gameDirection * -1 #changing the game direction if reverse card is played\n",
    "\n",
    "                if currentValue == 'Skip':\n",
    "                    \n",
    "                    '''\n",
    "                    Logic:\n",
    "                    skipping the next player in the game direction and if player turns exceeds or equals to \n",
    "                    total number of players it resets to 0 and \n",
    "                    if game is in opposite direction it resets at the number of players playing the game.\n",
    "                    '''\n",
    "                    playerTurn += gameDirection\n",
    "                    if playerTurn >= totPlayers:\n",
    "                        playerTurn = 0\n",
    "                    elif playerTurn < 0:\n",
    "                        playerTurn = totPlayers-1\n",
    "\n",
    "                if currentValue == '+2':\n",
    "                    playerToDraw = playerTurn + gameDirection #changing the pointer to next player to draw a card.\n",
    "                    \n",
    "                    #checking player to draw according to number of players playing the game and game direction. \n",
    "                    if playerToDraw >= totPlayers:\n",
    "                        playerToDraw = 0\n",
    "                    elif playerToDraw < 0:\n",
    "                        playerToDraw = totPlayers-1\n",
    "\n",
    "                    \n",
    "                    playerHand = players['Player '+str(playerToDraw+1)] #taking the card from the player's hand as a list\n",
    "                    playerHand.extend(drawCards(maindeck,2)) #drawing two cards from the maindeck\n",
    "                    \n",
    "                    #update the hand of player with the 2 new cards.\n",
    "                    updatedHand = {'Player '+str(playerToDraw+1): playerHand} \n",
    "                    players.update(updatedHand) \n",
    "\n",
    "\n",
    "                if currentValue == '+4':\n",
    "                    playerToDraw = playerTurn + gameDirection #changing the pointer to next player to draw a card.\n",
    "                    \n",
    "                    #checking player to draw according to number of players playing the game and game direction. \n",
    "                    if playerToDraw >= totPlayers:\n",
    "                        playerToDraw = 0\n",
    "                    elif playerToDraw < 0:\n",
    "                        playerToDraw = totPlayers-1\n",
    "\n",
    "                    \n",
    "                    playerHand = players['Player '+str(playerToDraw+1)] #taking the card from the player's hand as a list\n",
    "                    playerHand.extend(drawCards(maindeck,4)) #drawing two cards from the maindeck\n",
    "                    \n",
    "                    #update the hand of player with the 4 new cards.\n",
    "                    updatedHand = {'Player '+str(playerToDraw+1): playerHand} \n",
    "                    players.update(updatedHand) \n",
    "        \n",
    "\n",
    "        else:\n",
    "            \n",
    "            print('You cannot play, you have to draw a card and check if the drawn card can be played.')\n",
    "            \n",
    "            \n",
    "            #drawing a card from main deck and appending it in the hand of the player.\n",
    "            playerHand = players['Player '+str(playerTurn+1)]\n",
    "            drawnCard = drawCards(maindeck,1) \n",
    "            playerHand.extend(drawnCard)\n",
    "            updatedHand = {'Player '+str(playerTurn+1): playerHand}\n",
    "            players.update(updatedHand)\n",
    "            #showing the hand again with new added card.\n",
    "            hand(playerTurn, players)\n",
    "            \n",
    "            \n",
    "            \n",
    "            #checking if the card drawn by the player is eligible to play.\n",
    "            if canPlayCard(currentCard,players,playerTurn):\n",
    "                playerHand = players['Player '+str(playerTurn+1)]\n",
    "                playerHand.pop(playerHand.index(drawnCard[0]))\n",
    "                \n",
    "                #checking winner.\n",
    "                if winner(players,playerTurn):\n",
    "                    print ('Game Over ... Player '+str(playerTurn+1)+ ' is the winner.')\n",
    "                    game = False\n",
    "                \n",
    "                else:\n",
    "                    \n",
    "                    #check for if the drawn card is a special card.\n",
    "                    cardDrawn = drawnCard[0].split(\" \")                \n",
    "                    cardColour = cardDrawn[0]\n",
    "                    cardValue = cardDrawn[1] \n",
    "\n",
    "                    if cardColour == 'Wild':\n",
    "                        newColor = input('Please choose a color between Red, Yellow, Blue or Green.')\n",
    "                        colors = ['Red','Yellow','Blue','Green']\n",
    "                        while newColor not in colors:\n",
    "                            newColor = input('Please choose a color between Red, Yellow, Blue or Green.')\n",
    "                        currentCard = newColor + ' Any'\n",
    "                        leftCards.append(currentCard)\n",
    "                    else:\n",
    "                        leftCards.append(drawnCard[0])\n",
    "                        \n",
    "\n",
    "                    if cardValue == 'Reverse':\n",
    "                        gameDirection = gameDirection * -1\n",
    "\n",
    "                    if cardValue == 'Skip':\n",
    "                        playerTurn += gameDirection\n",
    "                        if playerTurn >= totPlayers:\n",
    "                            playerTurn = 0\n",
    "                        elif playerTurn < 0:\n",
    "                            playerTurn = totPlayers-1\n",
    "\n",
    "                    if cardValue == '+2':\n",
    "                        playerToDraw = playerTurn + gameDirection\n",
    "                        if playerToDraw >= totPlayers:\n",
    "                            playerToDraw = 0\n",
    "                        elif playerToDraw < 0:\n",
    "                            playerToDraw = totPlayers-1\n",
    "\n",
    "                        playerHand = players['Player '+str(playerToDraw+1)]\n",
    "                        playerHand.extend(drawCards(maindeck,2))\n",
    "                        updatedHand = {'Player '+str(playerToDraw+1): playerHand}\n",
    "                        players.update(updatedHand)\n",
    "\n",
    "\n",
    "                    if cardValue == '+4':\n",
    "                        playerToDraw = playerTurn + gameDirection\n",
    "                        if playerToDraw >= totPlayers:\n",
    "                            playerToDraw = 0\n",
    "                        elif playerToDraw < 0:\n",
    "                            playerToDraw = totPlayers-1\n",
    "\n",
    "                        playerHand = players['Player '+str(playerToDraw+1)]\n",
    "                        playerHand.extend(drawCards(maindeck,4))\n",
    "                        updatedHand = {'Player '+str(playerToDraw+1): playerHand}\n",
    "                        players.update(updatedHand)\n",
    "\n",
    "            else:\n",
    "                leftCards.append(currentCard)\n",
    "            \n",
    "        \n",
    "        '''\n",
    "        This part increments the turn as per game direction.\n",
    "        '''\n",
    "        \n",
    "        playerTurn += gameDirection\n",
    "        if playerTurn >= totPlayers:\n",
    "            playerTurn = 0\n",
    "        elif playerTurn < 0:\n",
    "            playerTurn = totPlayers-1\n",
    "        \n",
    "    \n",
    "        \n",
    "main()\n"
   ]
  },
  {
   "cell_type": "code",
   "execution_count": null,
   "id": "35c03aab",
   "metadata": {
    "pycharm": {
     "name": "#%%\n"
    }
   },
   "outputs": [],
   "source": []
  },
  {
   "cell_type": "code",
   "execution_count": null,
   "id": "f1fd18d6",
   "metadata": {
    "pycharm": {
     "name": "#%%\n"
    }
   },
   "outputs": [],
   "source": []
  },
  {
   "cell_type": "code",
   "execution_count": null,
   "id": "d441431a",
   "metadata": {
    "pycharm": {
     "name": "#%%\n"
    }
   },
   "outputs": [],
   "source": []
  },
  {
   "cell_type": "code",
   "execution_count": null,
   "id": "ee86b86b",
   "metadata": {
    "pycharm": {
     "name": "#%%\n"
    }
   },
   "outputs": [],
   "source": []
  },
  {
   "cell_type": "code",
   "execution_count": null,
   "id": "9b9b1472",
   "metadata": {
    "pycharm": {
     "name": "#%%\n"
    }
   },
   "outputs": [],
   "source": []
  },
  {
   "cell_type": "code",
   "execution_count": null,
   "id": "b33ea0e8",
   "metadata": {
    "pycharm": {
     "name": "#%%\n"
    }
   },
   "outputs": [],
   "source": []
  },
  {
   "cell_type": "code",
   "execution_count": null,
   "id": "3e660dab",
   "metadata": {
    "pycharm": {
     "name": "#%%\n"
    }
   },
   "outputs": [],
   "source": []
  },
  {
   "cell_type": "code",
   "execution_count": null,
   "id": "9257f63e",
   "metadata": {
    "pycharm": {
     "name": "#%%\n"
    }
   },
   "outputs": [],
   "source": []
  },
  {
   "cell_type": "code",
   "execution_count": null,
   "id": "e28a9458",
   "metadata": {
    "pycharm": {
     "name": "#%%\n"
    }
   },
   "outputs": [],
   "source": []
  },
  {
   "cell_type": "code",
   "execution_count": null,
   "id": "0cbee810",
   "metadata": {
    "pycharm": {
     "name": "#%%\n"
    }
   },
   "outputs": [],
   "source": []
  },
  {
   "cell_type": "code",
   "execution_count": null,
   "id": "dca4d227",
   "metadata": {
    "pycharm": {
     "name": "#%%\n"
    }
   },
   "outputs": [],
   "source": []
  },
  {
   "cell_type": "code",
   "execution_count": null,
   "id": "30d26b13",
   "metadata": {
    "pycharm": {
     "name": "#%%\n"
    }
   },
   "outputs": [],
   "source": []
  },
  {
   "cell_type": "code",
   "execution_count": null,
   "id": "a3952bb1",
   "metadata": {
    "pycharm": {
     "name": "#%%\n"
    }
   },
   "outputs": [],
   "source": []
  },
  {
   "cell_type": "code",
   "execution_count": null,
   "id": "45afa93a",
   "metadata": {
    "pycharm": {
     "name": "#%%\n"
    }
   },
   "outputs": [],
   "source": []
  },
  {
   "cell_type": "code",
   "execution_count": null,
   "id": "5364d401",
   "metadata": {
    "pycharm": {
     "name": "#%%\n"
    }
   },
   "outputs": [],
   "source": []
  },
  {
   "cell_type": "code",
   "execution_count": null,
   "id": "8d27cdbb",
   "metadata": {
    "pycharm": {
     "name": "#%%\n"
    }
   },
   "outputs": [],
   "source": []
  },
  {
   "cell_type": "code",
   "execution_count": null,
   "id": "f7258d13",
   "metadata": {
    "pycharm": {
     "name": "#%%\n"
    }
   },
   "outputs": [],
   "source": []
  },
  {
   "cell_type": "code",
   "execution_count": null,
   "id": "5ea873b6",
   "metadata": {
    "pycharm": {
     "name": "#%%\n"
    }
   },
   "outputs": [],
   "source": []
  }
 ],
 "metadata": {
  "kernelspec": {
   "display_name": "Python 3 (ipykernel)",
   "language": "python",
   "name": "python3"
  },
  "language_info": {
   "codemirror_mode": {
    "name": "ipython",
    "version": 3
   },
   "file_extension": ".py",
   "mimetype": "text/x-python",
   "name": "python",
   "nbconvert_exporter": "python",
   "pygments_lexer": "ipython3",
   "version": "3.9.12"
  }
 },
 "nbformat": 4,
 "nbformat_minor": 5
}